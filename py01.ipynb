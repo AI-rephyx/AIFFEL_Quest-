{
  "nbformat": 4,
  "nbformat_minor": 0,
  "metadata": {
    "colab": {
      "provenance": [],
      "include_colab_link": true
    },
    "kernelspec": {
      "name": "python3",
      "display_name": "Python 3"
    },
    "language_info": {
      "name": "python"
    }
  },
  "cells": [
    {
      "cell_type": "markdown",
      "metadata": {
        "id": "view-in-github",
        "colab_type": "text"
      },
      "source": [
        "<a href=\"https://colab.research.google.com/github/haedongmu/AIFFEL_quest_cr/blob/main/py01.ipynb\" target=\"_parent\"><img src=\"https://colab.research.google.com/assets/colab-badge.svg\" alt=\"Open In Colab\"/></a>"
      ]
    },
    {
      "cell_type": "code",
      "source": [
        "#input 으로 문자열을 입력받는다.\n",
        "\n",
        "#입력받은 문자열을 읽어서 거꾸로 다른 변수에 저장한다.\n",
        "\n",
        "#if문을 사용해서 첫번째 문자열과 두번째 문자열이 같은지 비교한다.\n",
        "\n",
        "#True 가 나오면 회문이라고 출력하고, 그렇지 않다면 회문이 아니라고 출력한다.\n",
        "\n",
        "text = str(input('문자를 입력하세요'))\n",
        "reverse_text = text[::-1]\n",
        "if reverse_text == text:\n",
        "    print(\"회문이 맞습니다.\")\n",
        "else:\n",
        "    print(\"회문이 아닙니다.\")"
      ],
      "metadata": {
        "id": "HJHEDvwlE7WO",
        "colab": {
          "base_uri": "https://localhost:8080/"
        },
        "outputId": "ec4480ed-8182-4709-ef33-426665be29f2"
      },
      "execution_count": 5,
      "outputs": [
        {
          "output_type": "stream",
          "name": "stdout",
          "text": [
            "문자를 입력하세요기러기\n",
            "회문이 맞습니다.\n"
          ]
        }
      ]
    },
    {
      "cell_type": "code",
      "source": [],
      "metadata": {
        "id": "tyT6Jj6bKNj_"
      },
      "execution_count": null,
      "outputs": []
    }
  ]
}